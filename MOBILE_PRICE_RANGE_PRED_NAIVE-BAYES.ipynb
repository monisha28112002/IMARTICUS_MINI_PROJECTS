{
 "cells": [
  {
   "cell_type": "markdown",
   "metadata": {},
   "source": [
    "# Mobile price range prediction"
   ]
  },
  {
   "cell_type": "code",
   "execution_count": 1,
   "metadata": {
    "id": "Eo4WITeHgqfc"
   },
   "outputs": [],
   "source": [
    "import pandas as pd\n",
    "import numpy as np\n",
    "import matplotlib.pyplot as plt\n",
    "import seaborn as sns"
   ]
  },
  {
   "cell_type": "code",
   "execution_count": 2,
   "metadata": {
    "colab": {
     "base_uri": "https://localhost:8080/",
     "height": 488
    },
    "id": "Qe7zp76Pg04t",
    "outputId": "a34dce9b-38c3-4996-e761-f4c6bc5e90ea"
   },
   "outputs": [
    {
     "data": {
      "text/html": [
       "<div>\n",
       "<style scoped>\n",
       "    .dataframe tbody tr th:only-of-type {\n",
       "        vertical-align: middle;\n",
       "    }\n",
       "\n",
       "    .dataframe tbody tr th {\n",
       "        vertical-align: top;\n",
       "    }\n",
       "\n",
       "    .dataframe thead th {\n",
       "        text-align: right;\n",
       "    }\n",
       "</style>\n",
       "<table border=\"1\" class=\"dataframe\">\n",
       "  <thead>\n",
       "    <tr style=\"text-align: right;\">\n",
       "      <th></th>\n",
       "      <th>battery_power</th>\n",
       "      <th>clock_speed</th>\n",
       "      <th>fc</th>\n",
       "      <th>int_memory</th>\n",
       "      <th>m_dep</th>\n",
       "      <th>mobile_wt</th>\n",
       "      <th>n_cores</th>\n",
       "      <th>pc</th>\n",
       "      <th>px_height</th>\n",
       "      <th>px_width</th>\n",
       "      <th>ram</th>\n",
       "      <th>sc_h</th>\n",
       "      <th>sc_w</th>\n",
       "      <th>talk_time</th>\n",
       "      <th>price_range</th>\n",
       "    </tr>\n",
       "  </thead>\n",
       "  <tbody>\n",
       "    <tr>\n",
       "      <th>0</th>\n",
       "      <td>842</td>\n",
       "      <td>2.2</td>\n",
       "      <td>1</td>\n",
       "      <td>7</td>\n",
       "      <td>0.6</td>\n",
       "      <td>188</td>\n",
       "      <td>2</td>\n",
       "      <td>2</td>\n",
       "      <td>20</td>\n",
       "      <td>756</td>\n",
       "      <td>2549</td>\n",
       "      <td>9</td>\n",
       "      <td>7</td>\n",
       "      <td>19</td>\n",
       "      <td>1</td>\n",
       "    </tr>\n",
       "    <tr>\n",
       "      <th>1</th>\n",
       "      <td>1021</td>\n",
       "      <td>0.5</td>\n",
       "      <td>0</td>\n",
       "      <td>53</td>\n",
       "      <td>0.7</td>\n",
       "      <td>136</td>\n",
       "      <td>3</td>\n",
       "      <td>6</td>\n",
       "      <td>905</td>\n",
       "      <td>1988</td>\n",
       "      <td>2631</td>\n",
       "      <td>17</td>\n",
       "      <td>3</td>\n",
       "      <td>7</td>\n",
       "      <td>2</td>\n",
       "    </tr>\n",
       "    <tr>\n",
       "      <th>2</th>\n",
       "      <td>563</td>\n",
       "      <td>0.5</td>\n",
       "      <td>2</td>\n",
       "      <td>41</td>\n",
       "      <td>0.9</td>\n",
       "      <td>145</td>\n",
       "      <td>5</td>\n",
       "      <td>6</td>\n",
       "      <td>1263</td>\n",
       "      <td>1716</td>\n",
       "      <td>2603</td>\n",
       "      <td>11</td>\n",
       "      <td>2</td>\n",
       "      <td>9</td>\n",
       "      <td>2</td>\n",
       "    </tr>\n",
       "    <tr>\n",
       "      <th>3</th>\n",
       "      <td>615</td>\n",
       "      <td>2.5</td>\n",
       "      <td>0</td>\n",
       "      <td>10</td>\n",
       "      <td>0.8</td>\n",
       "      <td>131</td>\n",
       "      <td>6</td>\n",
       "      <td>9</td>\n",
       "      <td>1216</td>\n",
       "      <td>1786</td>\n",
       "      <td>2769</td>\n",
       "      <td>16</td>\n",
       "      <td>8</td>\n",
       "      <td>11</td>\n",
       "      <td>2</td>\n",
       "    </tr>\n",
       "    <tr>\n",
       "      <th>4</th>\n",
       "      <td>1821</td>\n",
       "      <td>1.2</td>\n",
       "      <td>13</td>\n",
       "      <td>44</td>\n",
       "      <td>0.6</td>\n",
       "      <td>141</td>\n",
       "      <td>2</td>\n",
       "      <td>14</td>\n",
       "      <td>1208</td>\n",
       "      <td>1212</td>\n",
       "      <td>1411</td>\n",
       "      <td>8</td>\n",
       "      <td>2</td>\n",
       "      <td>15</td>\n",
       "      <td>1</td>\n",
       "    </tr>\n",
       "    <tr>\n",
       "      <th>...</th>\n",
       "      <td>...</td>\n",
       "      <td>...</td>\n",
       "      <td>...</td>\n",
       "      <td>...</td>\n",
       "      <td>...</td>\n",
       "      <td>...</td>\n",
       "      <td>...</td>\n",
       "      <td>...</td>\n",
       "      <td>...</td>\n",
       "      <td>...</td>\n",
       "      <td>...</td>\n",
       "      <td>...</td>\n",
       "      <td>...</td>\n",
       "      <td>...</td>\n",
       "      <td>...</td>\n",
       "    </tr>\n",
       "    <tr>\n",
       "      <th>1995</th>\n",
       "      <td>794</td>\n",
       "      <td>0.5</td>\n",
       "      <td>0</td>\n",
       "      <td>2</td>\n",
       "      <td>0.8</td>\n",
       "      <td>106</td>\n",
       "      <td>6</td>\n",
       "      <td>14</td>\n",
       "      <td>1222</td>\n",
       "      <td>1890</td>\n",
       "      <td>668</td>\n",
       "      <td>13</td>\n",
       "      <td>4</td>\n",
       "      <td>19</td>\n",
       "      <td>0</td>\n",
       "    </tr>\n",
       "    <tr>\n",
       "      <th>1996</th>\n",
       "      <td>1965</td>\n",
       "      <td>2.6</td>\n",
       "      <td>0</td>\n",
       "      <td>39</td>\n",
       "      <td>0.2</td>\n",
       "      <td>187</td>\n",
       "      <td>4</td>\n",
       "      <td>3</td>\n",
       "      <td>915</td>\n",
       "      <td>1965</td>\n",
       "      <td>2032</td>\n",
       "      <td>11</td>\n",
       "      <td>10</td>\n",
       "      <td>16</td>\n",
       "      <td>2</td>\n",
       "    </tr>\n",
       "    <tr>\n",
       "      <th>1997</th>\n",
       "      <td>1911</td>\n",
       "      <td>0.9</td>\n",
       "      <td>1</td>\n",
       "      <td>36</td>\n",
       "      <td>0.7</td>\n",
       "      <td>108</td>\n",
       "      <td>8</td>\n",
       "      <td>3</td>\n",
       "      <td>868</td>\n",
       "      <td>1632</td>\n",
       "      <td>3057</td>\n",
       "      <td>9</td>\n",
       "      <td>1</td>\n",
       "      <td>5</td>\n",
       "      <td>3</td>\n",
       "    </tr>\n",
       "    <tr>\n",
       "      <th>1998</th>\n",
       "      <td>1512</td>\n",
       "      <td>0.9</td>\n",
       "      <td>4</td>\n",
       "      <td>46</td>\n",
       "      <td>0.1</td>\n",
       "      <td>145</td>\n",
       "      <td>5</td>\n",
       "      <td>5</td>\n",
       "      <td>336</td>\n",
       "      <td>670</td>\n",
       "      <td>869</td>\n",
       "      <td>18</td>\n",
       "      <td>10</td>\n",
       "      <td>19</td>\n",
       "      <td>0</td>\n",
       "    </tr>\n",
       "    <tr>\n",
       "      <th>1999</th>\n",
       "      <td>510</td>\n",
       "      <td>2.0</td>\n",
       "      <td>5</td>\n",
       "      <td>45</td>\n",
       "      <td>0.9</td>\n",
       "      <td>168</td>\n",
       "      <td>6</td>\n",
       "      <td>16</td>\n",
       "      <td>483</td>\n",
       "      <td>754</td>\n",
       "      <td>3919</td>\n",
       "      <td>19</td>\n",
       "      <td>4</td>\n",
       "      <td>2</td>\n",
       "      <td>3</td>\n",
       "    </tr>\n",
       "  </tbody>\n",
       "</table>\n",
       "<p>2000 rows × 15 columns</p>\n",
       "</div>"
      ],
      "text/plain": [
       "      battery_power  clock_speed  fc  int_memory  m_dep  mobile_wt  n_cores  \\\n",
       "0               842          2.2   1           7    0.6        188        2   \n",
       "1              1021          0.5   0          53    0.7        136        3   \n",
       "2               563          0.5   2          41    0.9        145        5   \n",
       "3               615          2.5   0          10    0.8        131        6   \n",
       "4              1821          1.2  13          44    0.6        141        2   \n",
       "...             ...          ...  ..         ...    ...        ...      ...   \n",
       "1995            794          0.5   0           2    0.8        106        6   \n",
       "1996           1965          2.6   0          39    0.2        187        4   \n",
       "1997           1911          0.9   1          36    0.7        108        8   \n",
       "1998           1512          0.9   4          46    0.1        145        5   \n",
       "1999            510          2.0   5          45    0.9        168        6   \n",
       "\n",
       "      pc  px_height  px_width   ram  sc_h  sc_w  talk_time  price_range  \n",
       "0      2         20       756  2549     9     7         19            1  \n",
       "1      6        905      1988  2631    17     3          7            2  \n",
       "2      6       1263      1716  2603    11     2          9            2  \n",
       "3      9       1216      1786  2769    16     8         11            2  \n",
       "4     14       1208      1212  1411     8     2         15            1  \n",
       "...   ..        ...       ...   ...   ...   ...        ...          ...  \n",
       "1995  14       1222      1890   668    13     4         19            0  \n",
       "1996   3        915      1965  2032    11    10         16            2  \n",
       "1997   3        868      1632  3057     9     1          5            3  \n",
       "1998   5        336       670   869    18    10         19            0  \n",
       "1999  16        483       754  3919    19     4          2            3  \n",
       "\n",
       "[2000 rows x 15 columns]"
      ]
     },
     "execution_count": 2,
     "metadata": {},
     "output_type": "execute_result"
    }
   ],
   "source": [
    "file=pd.read_csv(r\"C:\\Users\\admin\\Desktop\\Imarticus\\Mobile_data.csv\")\n",
    "df=pd.DataFrame(file)\n",
    "df"
   ]
  },
  {
   "cell_type": "markdown",
   "metadata": {
    "id": "pgy7dqM-g-iW"
   },
   "source": [
    "**exploratory data analysis**"
   ]
  },
  {
   "cell_type": "code",
   "execution_count": 3,
   "metadata": {
    "colab": {
     "base_uri": "https://localhost:8080/",
     "height": 270
    },
    "id": "0_1wK_uOg80p",
    "outputId": "25243807-ded9-4b7f-9666-84e1521ae222"
   },
   "outputs": [
    {
     "data": {
      "text/html": [
       "<div>\n",
       "<style scoped>\n",
       "    .dataframe tbody tr th:only-of-type {\n",
       "        vertical-align: middle;\n",
       "    }\n",
       "\n",
       "    .dataframe tbody tr th {\n",
       "        vertical-align: top;\n",
       "    }\n",
       "\n",
       "    .dataframe thead th {\n",
       "        text-align: right;\n",
       "    }\n",
       "</style>\n",
       "<table border=\"1\" class=\"dataframe\">\n",
       "  <thead>\n",
       "    <tr style=\"text-align: right;\">\n",
       "      <th></th>\n",
       "      <th>battery_power</th>\n",
       "      <th>clock_speed</th>\n",
       "      <th>fc</th>\n",
       "      <th>int_memory</th>\n",
       "      <th>m_dep</th>\n",
       "      <th>mobile_wt</th>\n",
       "      <th>n_cores</th>\n",
       "      <th>pc</th>\n",
       "      <th>px_height</th>\n",
       "      <th>px_width</th>\n",
       "      <th>ram</th>\n",
       "      <th>sc_h</th>\n",
       "      <th>sc_w</th>\n",
       "      <th>talk_time</th>\n",
       "      <th>price_range</th>\n",
       "    </tr>\n",
       "  </thead>\n",
       "  <tbody>\n",
       "    <tr>\n",
       "      <th>0</th>\n",
       "      <td>842</td>\n",
       "      <td>2.2</td>\n",
       "      <td>1</td>\n",
       "      <td>7</td>\n",
       "      <td>0.6</td>\n",
       "      <td>188</td>\n",
       "      <td>2</td>\n",
       "      <td>2</td>\n",
       "      <td>20</td>\n",
       "      <td>756</td>\n",
       "      <td>2549</td>\n",
       "      <td>9</td>\n",
       "      <td>7</td>\n",
       "      <td>19</td>\n",
       "      <td>1</td>\n",
       "    </tr>\n",
       "    <tr>\n",
       "      <th>1</th>\n",
       "      <td>1021</td>\n",
       "      <td>0.5</td>\n",
       "      <td>0</td>\n",
       "      <td>53</td>\n",
       "      <td>0.7</td>\n",
       "      <td>136</td>\n",
       "      <td>3</td>\n",
       "      <td>6</td>\n",
       "      <td>905</td>\n",
       "      <td>1988</td>\n",
       "      <td>2631</td>\n",
       "      <td>17</td>\n",
       "      <td>3</td>\n",
       "      <td>7</td>\n",
       "      <td>2</td>\n",
       "    </tr>\n",
       "    <tr>\n",
       "      <th>2</th>\n",
       "      <td>563</td>\n",
       "      <td>0.5</td>\n",
       "      <td>2</td>\n",
       "      <td>41</td>\n",
       "      <td>0.9</td>\n",
       "      <td>145</td>\n",
       "      <td>5</td>\n",
       "      <td>6</td>\n",
       "      <td>1263</td>\n",
       "      <td>1716</td>\n",
       "      <td>2603</td>\n",
       "      <td>11</td>\n",
       "      <td>2</td>\n",
       "      <td>9</td>\n",
       "      <td>2</td>\n",
       "    </tr>\n",
       "    <tr>\n",
       "      <th>3</th>\n",
       "      <td>615</td>\n",
       "      <td>2.5</td>\n",
       "      <td>0</td>\n",
       "      <td>10</td>\n",
       "      <td>0.8</td>\n",
       "      <td>131</td>\n",
       "      <td>6</td>\n",
       "      <td>9</td>\n",
       "      <td>1216</td>\n",
       "      <td>1786</td>\n",
       "      <td>2769</td>\n",
       "      <td>16</td>\n",
       "      <td>8</td>\n",
       "      <td>11</td>\n",
       "      <td>2</td>\n",
       "    </tr>\n",
       "    <tr>\n",
       "      <th>4</th>\n",
       "      <td>1821</td>\n",
       "      <td>1.2</td>\n",
       "      <td>13</td>\n",
       "      <td>44</td>\n",
       "      <td>0.6</td>\n",
       "      <td>141</td>\n",
       "      <td>2</td>\n",
       "      <td>14</td>\n",
       "      <td>1208</td>\n",
       "      <td>1212</td>\n",
       "      <td>1411</td>\n",
       "      <td>8</td>\n",
       "      <td>2</td>\n",
       "      <td>15</td>\n",
       "      <td>1</td>\n",
       "    </tr>\n",
       "  </tbody>\n",
       "</table>\n",
       "</div>"
      ],
      "text/plain": [
       "   battery_power  clock_speed  fc  int_memory  m_dep  mobile_wt  n_cores  pc  \\\n",
       "0            842          2.2   1           7    0.6        188        2   2   \n",
       "1           1021          0.5   0          53    0.7        136        3   6   \n",
       "2            563          0.5   2          41    0.9        145        5   6   \n",
       "3            615          2.5   0          10    0.8        131        6   9   \n",
       "4           1821          1.2  13          44    0.6        141        2  14   \n",
       "\n",
       "   px_height  px_width   ram  sc_h  sc_w  talk_time  price_range  \n",
       "0         20       756  2549     9     7         19            1  \n",
       "1        905      1988  2631    17     3          7            2  \n",
       "2       1263      1716  2603    11     2          9            2  \n",
       "3       1216      1786  2769    16     8         11            2  \n",
       "4       1208      1212  1411     8     2         15            1  "
      ]
     },
     "execution_count": 3,
     "metadata": {},
     "output_type": "execute_result"
    }
   ],
   "source": [
    "df.head()"
   ]
  },
  {
   "cell_type": "code",
   "execution_count": 4,
   "metadata": {
    "colab": {
     "base_uri": "https://localhost:8080/"
    },
    "id": "ukl7CVb-hE0c",
    "outputId": "b6e5aeba-3f3f-4bb7-b611-27fa098cb42a"
   },
   "outputs": [
    {
     "name": "stdout",
     "output_type": "stream",
     "text": [
      "<class 'pandas.core.frame.DataFrame'>\n",
      "RangeIndex: 2000 entries, 0 to 1999\n",
      "Data columns (total 15 columns):\n",
      " #   Column         Non-Null Count  Dtype  \n",
      "---  ------         --------------  -----  \n",
      " 0   battery_power  2000 non-null   int64  \n",
      " 1   clock_speed    2000 non-null   float64\n",
      " 2   fc             2000 non-null   int64  \n",
      " 3   int_memory     2000 non-null   int64  \n",
      " 4   m_dep          2000 non-null   float64\n",
      " 5   mobile_wt      2000 non-null   int64  \n",
      " 6   n_cores        2000 non-null   int64  \n",
      " 7   pc             2000 non-null   int64  \n",
      " 8   px_height      2000 non-null   int64  \n",
      " 9   px_width       2000 non-null   int64  \n",
      " 10  ram            2000 non-null   int64  \n",
      " 11  sc_h           2000 non-null   int64  \n",
      " 12  sc_w           2000 non-null   int64  \n",
      " 13  talk_time      2000 non-null   int64  \n",
      " 14  price_range    2000 non-null   int64  \n",
      "dtypes: float64(2), int64(13)\n",
      "memory usage: 234.5 KB\n"
     ]
    }
   ],
   "source": [
    "df.info()"
   ]
  },
  {
   "cell_type": "code",
   "execution_count": 5,
   "metadata": {
    "colab": {
     "base_uri": "https://localhost:8080/"
    },
    "id": "RrN0DXSVhIoD",
    "outputId": "8cfab51b-3598-4252-8e35-1e726cc0eef1"
   },
   "outputs": [
    {
     "data": {
      "text/plain": [
       "battery_power    0\n",
       "clock_speed      0\n",
       "fc               0\n",
       "int_memory       0\n",
       "m_dep            0\n",
       "mobile_wt        0\n",
       "n_cores          0\n",
       "pc               0\n",
       "px_height        0\n",
       "px_width         0\n",
       "ram              0\n",
       "sc_h             0\n",
       "sc_w             0\n",
       "talk_time        0\n",
       "price_range      0\n",
       "dtype: int64"
      ]
     },
     "execution_count": 5,
     "metadata": {},
     "output_type": "execute_result"
    }
   ],
   "source": [
    "df.isna().sum()"
   ]
  },
  {
   "cell_type": "markdown",
   "metadata": {
    "id": "_0wmGHS6hL0D"
   },
   "source": [
    "there is no duplicates"
   ]
  },
  {
   "cell_type": "code",
   "execution_count": 6,
   "metadata": {
    "colab": {
     "base_uri": "https://localhost:8080/",
     "height": 113
    },
    "id": "52Obb3WJhKpj",
    "outputId": "a1ff541d-0d2d-4c25-8789-cc89300963a4"
   },
   "outputs": [
    {
     "data": {
      "text/html": [
       "<div>\n",
       "<style scoped>\n",
       "    .dataframe tbody tr th:only-of-type {\n",
       "        vertical-align: middle;\n",
       "    }\n",
       "\n",
       "    .dataframe tbody tr th {\n",
       "        vertical-align: top;\n",
       "    }\n",
       "\n",
       "    .dataframe thead th {\n",
       "        text-align: right;\n",
       "    }\n",
       "</style>\n",
       "<table border=\"1\" class=\"dataframe\">\n",
       "  <thead>\n",
       "    <tr style=\"text-align: right;\">\n",
       "      <th></th>\n",
       "      <th>battery_power</th>\n",
       "      <th>clock_speed</th>\n",
       "      <th>fc</th>\n",
       "      <th>int_memory</th>\n",
       "      <th>m_dep</th>\n",
       "      <th>mobile_wt</th>\n",
       "      <th>n_cores</th>\n",
       "      <th>pc</th>\n",
       "      <th>px_height</th>\n",
       "      <th>px_width</th>\n",
       "      <th>ram</th>\n",
       "      <th>sc_h</th>\n",
       "      <th>sc_w</th>\n",
       "      <th>talk_time</th>\n",
       "      <th>price_range</th>\n",
       "    </tr>\n",
       "  </thead>\n",
       "  <tbody>\n",
       "  </tbody>\n",
       "</table>\n",
       "</div>"
      ],
      "text/plain": [
       "Empty DataFrame\n",
       "Columns: [battery_power, clock_speed, fc, int_memory, m_dep, mobile_wt, n_cores, pc, px_height, px_width, ram, sc_h, sc_w, talk_time, price_range]\n",
       "Index: []"
      ]
     },
     "execution_count": 6,
     "metadata": {},
     "output_type": "execute_result"
    }
   ],
   "source": [
    "df[df.duplicated()]"
   ]
  },
  {
   "cell_type": "markdown",
   "metadata": {
    "id": "OAqeOWbLhY39"
   },
   "source": [
    "there is no duplicates"
   ]
  },
  {
   "cell_type": "code",
   "execution_count": 7,
   "metadata": {
    "colab": {
     "base_uri": "https://localhost:8080/",
     "height": 1000
    },
    "id": "0PwmXi5XhXim",
    "outputId": "c2932454-964e-4a00-e465-a71b4b46f6c5"
   },
   "outputs": [
    {
     "data": {
      "image/png": "[encoded data removed]",
      "text/plain": [
       "<Figure size 432x288 with 1 Axes>"
      ]
     },
     "metadata": {
      "needs_background": "light"
     },
     "output_type": "display_data"
    },
    {
     "data": {
      "image/png": "[encoded data removed]",
      "text/plain": [
       "<Figure size 432x288 with 1 Axes>"
      ]
     },
     "metadata": {
      "needs_background": "light"
     },
     "output_type": "display_data"
    },
    {
     "data": {
      "image/png": "[encoded data removed]",
      "text/plain": [
       "<Figure size 432x288 with 1 Axes>"
      ]
     },
     "metadata": {
      "needs_background": "light"
     },
     "output_type": "display_data"
    },
    {
     "data": {
      "image/png": "[encoded data removed]",
      "text/plain": [
       "<Figure size 432x288 with 1 Axes>"
      ]
     },
     "metadata": {
      "needs_background": "light"
     },
     "output_type": "display_data"
    },
    {
     "data": {
      "image/png": "[encoded data removed]",
      "text/plain": [
       "<Figure size 432x288 with 1 Axes>"
      ]
     },
     "metadata": {
      "needs_background": "light"
     },
     "output_type": "display_data"
    },
    {
     "data": {
      "image/png": "[encoded data removed]",
      "text/plain": [
       "<Figure size 432x288 with 1 Axes>"
      ]
     },
     "metadata": {
      "needs_background": "light"
     },
     "output_type": "display_data"
    },
    {
     "data": {
      "image/png": "[encoded data removed]",
      "text/plain": [
       "<Figure size 432x288 with 1 Axes>"
      ]
     },
     "metadata": {
      "needs_background": "light"
     },
     "output_type": "display_data"
    },
    {
     "data": {
      "image/png": "[encoded data removed]",
      "text/plain": [
       "<Figure size 432x288 with 1 Axes>"
      ]
     },
     "metadata": {
      "needs_background": "light"
     },
     "output_type": "display_data"
    },
    {
     "data": {
      "image/png": "[encoded data removed]",
      "text/plain": [
       "<Figure size 432x288 with 1 Axes>"
      ]
     },
     "metadata": {
      "needs_background": "light"
     },
     "output_type": "display_data"
    },
    {
     "data": {
      "image/png": "[encoded data removed]",
      "text/plain": [
       "<Figure size 432x288 with 1 Axes>"
      ]
     },
     "metadata": {
      "needs_background": "light"
     },
     "output_type": "display_data"
    },
    {
     "data": {
      "image/png": "[encoded data removed]",
      "text/plain": [
       "<Figure size 432x288 with 1 Axes>"
      ]
     },
     "metadata": {
      "needs_background": "light"
     },
     "output_type": "display_data"
    },
    {
     "data": {
      "image/png": "[encoded data removed]",
      "text/plain": [
       "<Figure size 432x288 with 1 Axes>"
      ]
     },
     "metadata": {
      "needs_background": "light"
     },
     "output_type": "display_data"
    },
    {
     "data": {
      "image/png": "[encoded data removed]",
      "text/plain": [
       "<Figure size 432x288 with 1 Axes>"
      ]
     },
     "metadata": {
      "needs_background": "light"
     },
     "output_type": "display_data"
    },
    {
     "data": {
      "image/png": "[encoded data removed]",
      "text/plain": [
       "<Figure size 432x288 with 1 Axes>"
      ]
     },
     "metadata": {
      "needs_background": "light"
     },
     "output_type": "display_data"
    },
    {
     "data": {
      "image/png": "[encoded data removed]",
      "text/plain": [
       "<Figure size 432x288 with 1 Axes>"
      ]
     },
     "metadata": {
      "needs_background": "light"
     },
     "output_type": "display_data"
    }
   ],
   "source": [
    "for i in df:\n",
    "  plt.boxplot(df[i])\n",
    "  plt.show()\n",
    "  q1=df[i].quantile(0.25)\n",
    "  q3=df[i].quantile(0.75)\n",
    "  iqr=q3-q1\n",
    "  lower=q1-(1.5*iqr)\n",
    "  upper=q3+(1.5*iqr)\n",
    "  df[i]=np.where(df[i]>upper,upper,df[i])\n",
    "  df[i]=np.where(df[i]<lower,lower,df[i])"
   ]
  },
  {
   "cell_type": "markdown",
   "metadata": {
    "id": "EqYTPZkPiVKm"
   },
   "source": [
    "after removing outliers"
   ]
  },
  {
   "cell_type": "code",
   "execution_count": 8,
   "metadata": {
    "colab": {
     "base_uri": "https://localhost:8080/",
     "height": 1000
    },
    "id": "_WAZCEfphl5-",
    "outputId": "7d00eeee-2905-4c56-97b8-3217843380f8"
   },
   "outputs": [
    {
     "data": {
      "image/png": "[encoded data removed]",
      "text/plain": [
       "<Figure size 432x288 with 1 Axes>"
      ]
     },
     "metadata": {
      "needs_background": "light"
     },
     "output_type": "display_data"
    },
    {
     "data": {
      "image/png": "[encoded data removed]",
      "text/plain": [
       "<Figure size 432x288 with 1 Axes>"
      ]
     },
     "metadata": {
      "needs_background": "light"
     },
     "output_type": "display_data"
    },
    {
     "data": {
      "image/png": "[encoded data removed]",
      "text/plain": [
       "<Figure size 432x288 with 1 Axes>"
      ]
     },
     "metadata": {
      "needs_background": "light"
     },
     "output_type": "display_data"
    },
    {
     "data": {
      "image/png": "[encoded data removed]",
      "text/plain": [
       "<Figure size 432x288 with 1 Axes>"
      ]
     },
     "metadata": {
      "needs_background": "light"
     },
     "output_type": "display_data"
    },
    {
     "data": {
      "image/png": "[encoded data removed]",
      "text/plain": [
       "<Figure size 432x288 with 1 Axes>"
      ]
     },
     "metadata": {
      "needs_background": "light"
     },
     "output_type": "display_data"
    },
    {
     "data": {
      "image/png": "[encoded data removed]",
      "text/plain": [
       "<Figure size 432x288 with 1 Axes>"
      ]
     },
     "metadata": {
      "needs_background": "light"
     },
     "output_type": "display_data"
    },
    {
     "data": {
      "image/png": "[encoded data removed]",
      "text/plain": [
       "<Figure size 432x288 with 1 Axes>"
      ]
     },
     "metadata": {
      "needs_background": "light"
     },
     "output_type": "display_data"
    },
    {
     "data": {
      "image/png": "[encoded data removed]",
      "text/plain": [
       "<Figure size 432x288 with 1 Axes>"
      ]
     },
     "metadata": {
      "needs_background": "light"
     },
     "output_type": "display_data"
    },
    {
     "data": {
      "image/png": "[encoded data removed]",
      "text/plain": [
       "<Figure size 432x288 with 1 Axes>"
      ]
     },
     "metadata": {
      "needs_background": "light"
     },
     "output_type": "display_data"
    },
    {
     "data": {
      "image/png": "[encoded data removed]",
      "text/plain": [
       "<Figure size 432x288 with 1 Axes>"
      ]
     },
     "metadata": {
      "needs_background": "light"
     },
     "output_type": "display_data"
    },
    {
     "data": {
      "image/png": "[encoded data removed]",
      "text/plain": [
       "<Figure size 432x288 with 1 Axes>"
      ]
     },
     "metadata": {
      "needs_background": "light"
     },
     "output_type": "display_data"
    },
    {
     "data": {
      "image/png": "[encoded data removed]",
      "text/plain": [
       "<Figure size 432x288 with 1 Axes>"
      ]
     },
     "metadata": {
      "needs_background": "light"
     },
     "output_type": "display_data"
    },
    {
     "data": {
      "image/png": "[encoded data removed]",
      "text/plain": [
       "<Figure size 432x288 with 1 Axes>"
      ]
     },
     "metadata": {
      "needs_background": "light"
     },
     "output_type": "display_data"
    },
    {
     "data": {
      "image/png": "[encoded data removed]",
      "text/plain": [
       "<Figure size 432x288 with 1 Axes>"
      ]
     },
     "metadata": {
      "needs_background": "light"
     },
     "output_type": "display_data"
    },
    {
     "data": {
      "image/png": "[encoded data removed]",
      "text/plain": [
       "<Figure size 432x288 with 1 Axes>"
      ]
     },
     "metadata": {
      "needs_background": "light"
     },
     "output_type": "display_data"
    }
   ],
   "source": [
    "for i in df:\n",
    "  plt.boxplot(df[i])\n",
    "  plt.show()"
   ]
  },
  {
   "cell_type": "code",
   "execution_count": 9,
   "metadata": {
    "colab": {
     "base_uri": "https://localhost:8080/",
     "height": 540
    },
    "id": "0R0zbaDHiW2p",
    "outputId": "896da092-b3a0-452e-c9c0-fa13fd4c91cd"
   },
   "outputs": [
    {
     "data": {
      "text/html": [
       "<style type=\"text/css\">\n",
       "#T_396d9_row0_col0, #T_396d9_row1_col1, #T_396d9_row2_col2, #T_396d9_row3_col3, #T_396d9_row4_col4, #T_396d9_row5_col5, #T_396d9_row6_col6, #T_396d9_row7_col7, #T_396d9_row8_col8, #T_396d9_row9_col9, #T_396d9_row10_col10, #T_396d9_row11_col11, #T_396d9_row12_col12, #T_396d9_row13_col13, #T_396d9_row14_col14 {\n",
       "  background-color: #b40426;\n",
       "  color: #f1f1f1;\n",
       "}\n",
       "#T_396d9_row0_col1, #T_396d9_row1_col0, #T_396d9_row1_col3, #T_396d9_row4_col3, #T_396d9_row5_col1, #T_396d9_row13_col4, #T_396d9_row13_col5, #T_396d9_row13_col6 {\n",
       "  background-color: #465ecf;\n",
       "  color: #f1f1f1;\n",
       "}\n",
       "#T_396d9_row0_col2, #T_396d9_row2_col0, #T_396d9_row4_col0, #T_396d9_row7_col0, #T_396d9_row7_col14, #T_396d9_row10_col7, #T_396d9_row12_col8, #T_396d9_row14_col12 {\n",
       "  background-color: #4c66d6;\n",
       "  color: #f1f1f1;\n",
       "}\n",
       "#T_396d9_row0_col3, #T_396d9_row2_col1, #T_396d9_row3_col8, #T_396d9_row4_col14, #T_396d9_row5_col0, #T_396d9_row5_col13, #T_396d9_row6_col7, #T_396d9_row7_col6, #T_396d9_row9_col13, #T_396d9_row10_col0, #T_396d9_row10_col5, #T_396d9_row11_col6, #T_396d9_row11_col9, #T_396d9_row13_col3, #T_396d9_row13_col10 {\n",
       "  background-color: #4358cb;\n",
       "  color: #f1f1f1;\n",
       "}\n",
       "#T_396d9_row0_col4, #T_396d9_row2_col5, #T_396d9_row4_col7, #T_396d9_row9_col12, #T_396d9_row10_col12, #T_396d9_row12_col10, #T_396d9_row14_col11 {\n",
       "  background-color: #4b64d5;\n",
       "  color: #f1f1f1;\n",
       "}\n",
       "#T_396d9_row0_col5, #T_396d9_row0_col8, #T_396d9_row3_col1, #T_396d9_row3_col4, #T_396d9_row3_col12, #T_396d9_row4_col9, #T_396d9_row6_col9, #T_396d9_row6_col11, #T_396d9_row6_col14, #T_396d9_row8_col5, #T_396d9_row9_col5, #T_396d9_row10_col1, #T_396d9_row10_col6, #T_396d9_row10_col13, #T_396d9_row14_col6 {\n",
       "  background-color: #445acc;\n",
       "  color: #f1f1f1;\n",
       "}\n",
       "#T_396d9_row0_col6, #T_396d9_row0_col9, #T_396d9_row0_col11, #T_396d9_row0_col12, #T_396d9_row1_col9, #T_396d9_row2_col9, #T_396d9_row3_col2, #T_396d9_row3_col5, #T_396d9_row3_col6, #T_396d9_row3_col7, #T_396d9_row3_col9, #T_396d9_row5_col3, #T_396d9_row5_col11, #T_396d9_row5_col12, #T_396d9_row5_col14, #T_396d9_row6_col0, #T_396d9_row7_col3, #T_396d9_row7_col8, #T_396d9_row7_col12, #T_396d9_row8_col10, #T_396d9_row10_col8, #T_396d9_row11_col0, #T_396d9_row11_col1, #T_396d9_row11_col4, #T_396d9_row11_col5, #T_396d9_row12_col13, #T_396d9_row13_col12, #T_396d9_row14_col5 {\n",
       "  background-color: #3b4cc0;\n",
       "  color: #f1f1f1;\n",
       "}\n",
       "#T_396d9_row0_col7, #T_396d9_row8_col12, #T_396d9_row10_col3, #T_396d9_row14_col7 {\n",
       "  background-color: #4e68d8;\n",
       "  color: #f1f1f1;\n",
       "}\n",
       "#T_396d9_row0_col10, #T_396d9_row1_col12, #T_396d9_row2_col6, #T_396d9_row2_col13, #T_396d9_row5_col10, #T_396d9_row6_col2, #T_396d9_row8_col2, #T_396d9_row9_col1, #T_396d9_row11_col2, #T_396d9_row12_col2, #T_396d9_row13_col1, #T_396d9_row13_col9, #T_396d9_row13_col11 {\n",
       "  background-color: #3f53c6;\n",
       "  color: #f1f1f1;\n",
       "}\n",
       "#T_396d9_row0_col13, #T_396d9_row3_col14 {\n",
       "  background-color: #506bda;\n",
       "  color: #f1f1f1;\n",
       "}\n",
       "#T_396d9_row0_col14, #T_396d9_row14_col0 {\n",
       "  background-color: #84a7fc;\n",
       "  color: #f1f1f1;\n",
       "}\n",
       "#T_396d9_row1_col2, #T_396d9_row1_col7, #T_396d9_row2_col4, #T_396d9_row3_col0, #T_396d9_row4_col2, #T_396d9_row4_col6, #T_396d9_row6_col10, #T_396d9_row9_col3, #T_396d9_row9_col10, #T_396d9_row14_col4 {\n",
       "  background-color: #4257c9;\n",
       "  color: #f1f1f1;\n",
       "}\n",
       "#T_396d9_row1_col4, #T_396d9_row1_col13, #T_396d9_row2_col8, #T_396d9_row4_col10, #T_396d9_row4_col11, #T_396d9_row5_col6, #T_396d9_row5_col9, #T_396d9_row12_col0, #T_396d9_row12_col7, #T_396d9_row13_col8 {\n",
       "  background-color: #3d50c3;\n",
       "  color: #f1f1f1;\n",
       "}\n",
       "#T_396d9_row1_col5, #T_396d9_row4_col8, #T_396d9_row5_col4, #T_396d9_row8_col0, #T_396d9_row8_col3, #T_396d9_row10_col2, #T_396d9_row12_col3, #T_396d9_row12_col9, #T_396d9_row13_col7, #T_396d9_row14_col13 {\n",
       "  background-color: #485fd1;\n",
       "  color: #f1f1f1;\n",
       "}\n",
       "#T_396d9_row1_col6, #T_396d9_row1_col10, #T_396d9_row1_col14, #T_396d9_row2_col11, #T_396d9_row3_col13, #T_396d9_row5_col8, #T_396d9_row6_col1, #T_396d9_row6_col4, #T_396d9_row7_col1, #T_396d9_row8_col6, #T_396d9_row9_col0, #T_396d9_row9_col2, #T_396d9_row12_col1, #T_396d9_row13_col2, #T_396d9_row14_col1 {\n",
       "  background-color: #4055c8;\n",
       "  color: #f1f1f1;\n",
       "}\n",
       "#T_396d9_row1_col8, #T_396d9_row1_col11, #T_396d9_row2_col3, #T_396d9_row4_col12, #T_396d9_row6_col3, #T_396d9_row11_col13, #T_396d9_row12_col4 {\n",
       "  background-color: #3c4ec2;\n",
       "  color: #f1f1f1;\n",
       "}\n",
       "#T_396d9_row2_col7 {\n",
       "  background-color: #f7ba9f;\n",
       "  color: #000000;\n",
       "}\n",
       "#T_396d9_row2_col10, #T_396d9_row4_col13, #T_396d9_row6_col13, #T_396d9_row7_col11, #T_396d9_row7_col13, #T_396d9_row9_col7, #T_396d9_row11_col7, #T_396d9_row11_col10 {\n",
       "  background-color: #455cce;\n",
       "  color: #f1f1f1;\n",
       "}\n",
       "#T_396d9_row2_col12, #T_396d9_row4_col1, #T_396d9_row6_col5, #T_396d9_row6_col8, #T_396d9_row7_col9, #T_396d9_row8_col1, #T_396d9_row8_col7, #T_396d9_row8_col13, #T_396d9_row10_col4, #T_396d9_row10_col9, #T_396d9_row12_col5 {\n",
       "  background-color: #3e51c5;\n",
       "  color: #f1f1f1;\n",
       "}\n",
       "#T_396d9_row2_col14, #T_396d9_row3_col10, #T_396d9_row4_col5, #T_396d9_row7_col5, #T_396d9_row9_col6, #T_396d9_row9_col11, #T_396d9_row11_col14, #T_396d9_row12_col6 {\n",
       "  background-color: #4a63d3;\n",
       "  color: #f1f1f1;\n",
       "}\n",
       "#T_396d9_row3_col11, #T_396d9_row11_col3, #T_396d9_row12_col14 {\n",
       "  background-color: #4f69d9;\n",
       "  color: #f1f1f1;\n",
       "}\n",
       "#T_396d9_row5_col2, #T_396d9_row5_col7, #T_396d9_row6_col12, #T_396d9_row7_col4, #T_396d9_row7_col10, #T_396d9_row8_col4, #T_396d9_row9_col4, #T_396d9_row10_col11, #T_396d9_row13_col14, #T_396d9_row14_col2 {\n",
       "  background-color: #4961d2;\n",
       "  color: #f1f1f1;\n",
       "}\n",
       "#T_396d9_row7_col2 {\n",
       "  background-color: #f7bca1;\n",
       "  color: #000000;\n",
       "}\n",
       "#T_396d9_row8_col9 {\n",
       "  background-color: #e0dbd8;\n",
       "  color: #000000;\n",
       "}\n",
       "#T_396d9_row8_col11 {\n",
       "  background-color: #5673e0;\n",
       "  color: #f1f1f1;\n",
       "}\n",
       "#T_396d9_row8_col14, #T_396d9_row14_col9 {\n",
       "  background-color: #7295f4;\n",
       "  color: #f1f1f1;\n",
       "}\n",
       "#T_396d9_row9_col8, #T_396d9_row12_col11 {\n",
       "  background-color: #e2dad5;\n",
       "  color: #000000;\n",
       "}\n",
       "#T_396d9_row9_col14 {\n",
       "  background-color: #779af7;\n",
       "  color: #f1f1f1;\n",
       "}\n",
       "#T_396d9_row10_col14, #T_396d9_row14_col10 {\n",
       "  background-color: #d0473d;\n",
       "  color: #f1f1f1;\n",
       "}\n",
       "#T_396d9_row11_col8, #T_396d9_row13_col0 {\n",
       "  background-color: #536edd;\n",
       "  color: #f1f1f1;\n",
       "}\n",
       "#T_396d9_row11_col12 {\n",
       "  background-color: #e1dad6;\n",
       "  color: #000000;\n",
       "}\n",
       "#T_396d9_row14_col3 {\n",
       "  background-color: #516ddb;\n",
       "  color: #f1f1f1;\n",
       "}\n",
       "#T_396d9_row14_col8 {\n",
       "  background-color: #6f92f3;\n",
       "  color: #f1f1f1;\n",
       "}\n",
       "</style>\n",
       "<table id=\"T_396d9_\">\n",
       "  <thead>\n",
       "    <tr>\n",
       "      <th class=\"blank level0\" >&nbsp;</th>\n",
       "      <th class=\"col_heading level0 col0\" >battery_power</th>\n",
       "      <th class=\"col_heading level0 col1\" >clock_speed</th>\n",
       "      <th class=\"col_heading level0 col2\" >fc</th>\n",
       "      <th class=\"col_heading level0 col3\" >int_memory</th>\n",
       "      <th class=\"col_heading level0 col4\" >m_dep</th>\n",
       "      <th class=\"col_heading level0 col5\" >mobile_wt</th>\n",
       "      <th class=\"col_heading level0 col6\" >n_cores</th>\n",
       "      <th class=\"col_heading level0 col7\" >pc</th>\n",
       "      <th class=\"col_heading level0 col8\" >px_height</th>\n",
       "      <th class=\"col_heading level0 col9\" >px_width</th>\n",
       "      <th class=\"col_heading level0 col10\" >ram</th>\n",
       "      <th class=\"col_heading level0 col11\" >sc_h</th>\n",
       "      <th class=\"col_heading level0 col12\" >sc_w</th>\n",
       "      <th class=\"col_heading level0 col13\" >talk_time</th>\n",
       "      <th class=\"col_heading level0 col14\" >price_range</th>\n",
       "    </tr>\n",
       "  </thead>\n",
       "  <tbody>\n",
       "    <tr>\n",
       "      <th id=\"T_396d9_level0_row0\" class=\"row_heading level0 row0\" >battery_power</th>\n",
       "      <td id=\"T_396d9_row0_col0\" class=\"data row0 col0\" >1.000000</td>\n",
       "      <td id=\"T_396d9_row0_col1\" class=\"data row0 col1\" >0.011482</td>\n",
       "      <td id=\"T_396d9_row0_col2\" class=\"data row0 col2\" >0.032119</td>\n",
       "      <td id=\"T_396d9_row0_col3\" class=\"data row0 col3\" >-0.004004</td>\n",
       "      <td id=\"T_396d9_row0_col4\" class=\"data row0 col4\" >0.034085</td>\n",
       "      <td id=\"T_396d9_row0_col5\" class=\"data row0 col5\" >0.001844</td>\n",
       "      <td id=\"T_396d9_row0_col6\" class=\"data row0 col6\" >-0.029727</td>\n",
       "      <td id=\"T_396d9_row0_col7\" class=\"data row0 col7\" >0.031441</td>\n",
       "      <td id=\"T_396d9_row0_col8\" class=\"data row0 col8\" >0.014900</td>\n",
       "      <td id=\"T_396d9_row0_col9\" class=\"data row0 col9\" >-0.008402</td>\n",
       "      <td id=\"T_396d9_row0_col10\" class=\"data row0 col10\" >-0.000653</td>\n",
       "      <td id=\"T_396d9_row0_col11\" class=\"data row0 col11\" >-0.029959</td>\n",
       "      <td id=\"T_396d9_row0_col12\" class=\"data row0 col12\" >-0.021421</td>\n",
       "      <td id=\"T_396d9_row0_col13\" class=\"data row0 col13\" >0.052510</td>\n",
       "      <td id=\"T_396d9_row0_col14\" class=\"data row0 col14\" >0.200723</td>\n",
       "    </tr>\n",
       "    <tr>\n",
       "      <th id=\"T_396d9_level0_row1\" class=\"row_heading level0 row1\" >clock_speed</th>\n",
       "      <td id=\"T_396d9_row1_col0\" class=\"data row1 col0\" >0.011482</td>\n",
       "      <td id=\"T_396d9_row1_col1\" class=\"data row1 col1\" >1.000000</td>\n",
       "      <td id=\"T_396d9_row1_col2\" class=\"data row1 col2\" >-0.000897</td>\n",
       "      <td id=\"T_396d9_row1_col3\" class=\"data row1 col3\" >0.006545</td>\n",
       "      <td id=\"T_396d9_row1_col4\" class=\"data row1 col4\" >-0.014364</td>\n",
       "      <td id=\"T_396d9_row1_col5\" class=\"data row1 col5\" >0.012350</td>\n",
       "      <td id=\"T_396d9_row1_col6\" class=\"data row1 col6\" >-0.005724</td>\n",
       "      <td id=\"T_396d9_row1_col7\" class=\"data row1 col7\" >-0.005245</td>\n",
       "      <td id=\"T_396d9_row1_col8\" class=\"data row1 col8\" >-0.014519</td>\n",
       "      <td id=\"T_396d9_row1_col9\" class=\"data row1 col9\" >-0.009476</td>\n",
       "      <td id=\"T_396d9_row1_col10\" class=\"data row1 col10\" >0.003443</td>\n",
       "      <td id=\"T_396d9_row1_col11\" class=\"data row1 col11\" >-0.029078</td>\n",
       "      <td id=\"T_396d9_row1_col12\" class=\"data row1 col12\" >-0.007378</td>\n",
       "      <td id=\"T_396d9_row1_col13\" class=\"data row1 col13\" >-0.011432</td>\n",
       "      <td id=\"T_396d9_row1_col14\" class=\"data row1 col14\" >-0.006606</td>\n",
       "    </tr>\n",
       "    <tr>\n",
       "      <th id=\"T_396d9_level0_row2\" class=\"row_heading level0 row2\" >fc</th>\n",
       "      <td id=\"T_396d9_row2_col0\" class=\"data row2 col0\" >0.032119</td>\n",
       "      <td id=\"T_396d9_row2_col1\" class=\"data row2 col1\" >-0.000897</td>\n",
       "      <td id=\"T_396d9_row2_col2\" class=\"data row2 col2\" >1.000000</td>\n",
       "      <td id=\"T_396d9_row2_col3\" class=\"data row2 col3\" >-0.028623</td>\n",
       "      <td id=\"T_396d9_row2_col4\" class=\"data row2 col4\" >-0.001102</td>\n",
       "      <td id=\"T_396d9_row2_col5\" class=\"data row2 col5\" >0.022640</td>\n",
       "      <td id=\"T_396d9_row2_col6\" class=\"data row2 col6\" >-0.012269</td>\n",
       "      <td id=\"T_396d9_row2_col7\" class=\"data row2 col7\" >0.645716</td>\n",
       "      <td id=\"T_396d9_row2_col8\" class=\"data row2 col8\" >-0.011983</td>\n",
       "      <td id=\"T_396d9_row2_col9\" class=\"data row2 col9\" >-0.005688</td>\n",
       "      <td id=\"T_396d9_row2_col10\" class=\"data row2 col10\" >0.016123</td>\n",
       "      <td id=\"T_396d9_row2_col11\" class=\"data row2 col11\" >-0.010287</td>\n",
       "      <td id=\"T_396d9_row2_col12\" class=\"data row2 col12\" >-0.011440</td>\n",
       "      <td id=\"T_396d9_row2_col13\" class=\"data row2 col13\" >-0.006808</td>\n",
       "      <td id=\"T_396d9_row2_col14\" class=\"data row2 col14\" >0.022491</td>\n",
       "    </tr>\n",
       "    <tr>\n",
       "      <th id=\"T_396d9_level0_row3\" class=\"row_heading level0 row3\" >int_memory</th>\n",
       "      <td id=\"T_396d9_row3_col0\" class=\"data row3 col0\" >-0.004004</td>\n",
       "      <td id=\"T_396d9_row3_col1\" class=\"data row3 col1\" >0.006545</td>\n",
       "      <td id=\"T_396d9_row3_col2\" class=\"data row3 col2\" >-0.028623</td>\n",
       "      <td id=\"T_396d9_row3_col3\" class=\"data row3 col3\" >1.000000</td>\n",
       "      <td id=\"T_396d9_row3_col4\" class=\"data row3 col4\" >0.006886</td>\n",
       "      <td id=\"T_396d9_row3_col5\" class=\"data row3 col5\" >-0.034214</td>\n",
       "      <td id=\"T_396d9_row3_col6\" class=\"data row3 col6\" >-0.028310</td>\n",
       "      <td id=\"T_396d9_row3_col7\" class=\"data row3 col7\" >-0.033273</td>\n",
       "      <td id=\"T_396d9_row3_col8\" class=\"data row3 col8\" >0.010422</td>\n",
       "      <td id=\"T_396d9_row3_col9\" class=\"data row3 col9\" >-0.008335</td>\n",
       "      <td id=\"T_396d9_row3_col10\" class=\"data row3 col10\" >0.032813</td>\n",
       "      <td id=\"T_396d9_row3_col11\" class=\"data row3 col11\" >0.037771</td>\n",
       "      <td id=\"T_396d9_row3_col12\" class=\"data row3 col12\" >0.011731</td>\n",
       "      <td id=\"T_396d9_row3_col13\" class=\"data row3 col13\" >-0.002790</td>\n",
       "      <td id=\"T_396d9_row3_col14\" class=\"data row3 col14\" >0.044435</td>\n",
       "    </tr>\n",
       "    <tr>\n",
       "      <th id=\"T_396d9_level0_row4\" class=\"row_heading level0 row4\" >m_dep</th>\n",
       "      <td id=\"T_396d9_row4_col0\" class=\"data row4 col0\" >0.034085</td>\n",
       "      <td id=\"T_396d9_row4_col1\" class=\"data row4 col1\" >-0.014364</td>\n",
       "      <td id=\"T_396d9_row4_col2\" class=\"data row4 col2\" >-0.001102</td>\n",
       "      <td id=\"T_396d9_row4_col3\" class=\"data row4 col3\" >0.006886</td>\n",
       "      <td id=\"T_396d9_row4_col4\" class=\"data row4 col4\" >1.000000</td>\n",
       "      <td id=\"T_396d9_row4_col5\" class=\"data row4 col5\" >0.021756</td>\n",
       "      <td id=\"T_396d9_row4_col6\" class=\"data row4 col6\" >-0.003504</td>\n",
       "      <td id=\"T_396d9_row4_col7\" class=\"data row4 col7\" >0.026282</td>\n",
       "      <td id=\"T_396d9_row4_col8\" class=\"data row4 col8\" >0.025254</td>\n",
       "      <td id=\"T_396d9_row4_col9\" class=\"data row4 col9\" >0.023566</td>\n",
       "      <td id=\"T_396d9_row4_col10\" class=\"data row4 col10\" >-0.009434</td>\n",
       "      <td id=\"T_396d9_row4_col11\" class=\"data row4 col11\" >-0.025348</td>\n",
       "      <td id=\"T_396d9_row4_col12\" class=\"data row4 col12\" >-0.018388</td>\n",
       "      <td id=\"T_396d9_row4_col13\" class=\"data row4 col13\" >0.017003</td>\n",
       "      <td id=\"T_396d9_row4_col14\" class=\"data row4 col14\" >0.000853</td>\n",
       "    </tr>\n",
       "    <tr>\n",
       "      <th id=\"T_396d9_level0_row5\" class=\"row_heading level0 row5\" >mobile_wt</th>\n",
       "      <td id=\"T_396d9_row5_col0\" class=\"data row5 col0\" >0.001844</td>\n",
       "      <td id=\"T_396d9_row5_col1\" class=\"data row5 col1\" >0.012350</td>\n",
       "      <td id=\"T_396d9_row5_col2\" class=\"data row5 col2\" >0.022640</td>\n",
       "      <td id=\"T_396d9_row5_col3\" class=\"data row5 col3\" >-0.034214</td>\n",
       "      <td id=\"T_396d9_row5_col4\" class=\"data row5 col4\" >0.021756</td>\n",
       "      <td id=\"T_396d9_row5_col5\" class=\"data row5 col5\" >1.000000</td>\n",
       "      <td id=\"T_396d9_row5_col6\" class=\"data row5 col6\" >-0.018989</td>\n",
       "      <td id=\"T_396d9_row5_col7\" class=\"data row5 col7\" >0.018844</td>\n",
       "      <td id=\"T_396d9_row5_col8\" class=\"data row5 col8\" >0.000960</td>\n",
       "      <td id=\"T_396d9_row5_col9\" class=\"data row5 col9\" >0.000090</td>\n",
       "      <td id=\"T_396d9_row5_col10\" class=\"data row5 col10\" >-0.002581</td>\n",
       "      <td id=\"T_396d9_row5_col11\" class=\"data row5 col11\" >-0.033855</td>\n",
       "      <td id=\"T_396d9_row5_col12\" class=\"data row5 col12\" >-0.020761</td>\n",
       "      <td id=\"T_396d9_row5_col13\" class=\"data row5 col13\" >0.006209</td>\n",
       "      <td id=\"T_396d9_row5_col14\" class=\"data row5 col14\" >-0.030302</td>\n",
       "    </tr>\n",
       "    <tr>\n",
       "      <th id=\"T_396d9_level0_row6\" class=\"row_heading level0 row6\" >n_cores</th>\n",
       "      <td id=\"T_396d9_row6_col0\" class=\"data row6 col0\" >-0.029727</td>\n",
       "      <td id=\"T_396d9_row6_col1\" class=\"data row6 col1\" >-0.005724</td>\n",
       "      <td id=\"T_396d9_row6_col2\" class=\"data row6 col2\" >-0.012269</td>\n",
       "      <td id=\"T_396d9_row6_col3\" class=\"data row6 col3\" >-0.028310</td>\n",
       "      <td id=\"T_396d9_row6_col4\" class=\"data row6 col4\" >-0.003504</td>\n",
       "      <td id=\"T_396d9_row6_col5\" class=\"data row6 col5\" >-0.018989</td>\n",
       "      <td id=\"T_396d9_row6_col6\" class=\"data row6 col6\" >1.000000</td>\n",
       "      <td id=\"T_396d9_row6_col7\" class=\"data row6 col7\" >-0.001193</td>\n",
       "      <td id=\"T_396d9_row6_col8\" class=\"data row6 col8\" >-0.006893</td>\n",
       "      <td id=\"T_396d9_row6_col9\" class=\"data row6 col9\" >0.024480</td>\n",
       "      <td id=\"T_396d9_row6_col10\" class=\"data row6 col10\" >0.004868</td>\n",
       "      <td id=\"T_396d9_row6_col11\" class=\"data row6 col11\" >-0.000315</td>\n",
       "      <td id=\"T_396d9_row6_col12\" class=\"data row6 col12\" >0.025826</td>\n",
       "      <td id=\"T_396d9_row6_col13\" class=\"data row6 col13\" >0.013148</td>\n",
       "      <td id=\"T_396d9_row6_col14\" class=\"data row6 col14\" >0.004399</td>\n",
       "    </tr>\n",
       "    <tr>\n",
       "      <th id=\"T_396d9_level0_row7\" class=\"row_heading level0 row7\" >pc</th>\n",
       "      <td id=\"T_396d9_row7_col0\" class=\"data row7 col0\" >0.031441</td>\n",
       "      <td id=\"T_396d9_row7_col1\" class=\"data row7 col1\" >-0.005245</td>\n",
       "      <td id=\"T_396d9_row7_col2\" class=\"data row7 col2\" >0.645716</td>\n",
       "      <td id=\"T_396d9_row7_col3\" class=\"data row7 col3\" >-0.033273</td>\n",
       "      <td id=\"T_396d9_row7_col4\" class=\"data row7 col4\" >0.026282</td>\n",
       "      <td id=\"T_396d9_row7_col5\" class=\"data row7 col5\" >0.018844</td>\n",
       "      <td id=\"T_396d9_row7_col6\" class=\"data row7 col6\" >-0.001193</td>\n",
       "      <td id=\"T_396d9_row7_col7\" class=\"data row7 col7\" >1.000000</td>\n",
       "      <td id=\"T_396d9_row7_col8\" class=\"data row7 col8\" >-0.018440</td>\n",
       "      <td id=\"T_396d9_row7_col9\" class=\"data row7 col9\" >0.004196</td>\n",
       "      <td id=\"T_396d9_row7_col10\" class=\"data row7 col10\" >0.028984</td>\n",
       "      <td id=\"T_396d9_row7_col11\" class=\"data row7 col11\" >0.004938</td>\n",
       "      <td id=\"T_396d9_row7_col12\" class=\"data row7 col12\" >-0.023819</td>\n",
       "      <td id=\"T_396d9_row7_col13\" class=\"data row7 col13\" >0.014657</td>\n",
       "      <td id=\"T_396d9_row7_col14\" class=\"data row7 col14\" >0.033599</td>\n",
       "    </tr>\n",
       "    <tr>\n",
       "      <th id=\"T_396d9_level0_row8\" class=\"row_heading level0 row8\" >px_height</th>\n",
       "      <td id=\"T_396d9_row8_col0\" class=\"data row8 col0\" >0.014900</td>\n",
       "      <td id=\"T_396d9_row8_col1\" class=\"data row8 col1\" >-0.014519</td>\n",
       "      <td id=\"T_396d9_row8_col2\" class=\"data row8 col2\" >-0.011983</td>\n",
       "      <td id=\"T_396d9_row8_col3\" class=\"data row8 col3\" >0.010422</td>\n",
       "      <td id=\"T_396d9_row8_col4\" class=\"data row8 col4\" >0.025254</td>\n",
       "      <td id=\"T_396d9_row8_col5\" class=\"data row8 col5\" >0.000960</td>\n",
       "      <td id=\"T_396d9_row8_col6\" class=\"data row8 col6\" >-0.006893</td>\n",
       "      <td id=\"T_396d9_row8_col7\" class=\"data row8 col7\" >-0.018440</td>\n",
       "      <td id=\"T_396d9_row8_col8\" class=\"data row8 col8\" >1.000000</td>\n",
       "      <td id=\"T_396d9_row8_col9\" class=\"data row8 col9\" >0.510661</td>\n",
       "      <td id=\"T_396d9_row8_col10\" class=\"data row8 col10\" >-0.020349</td>\n",
       "      <td id=\"T_396d9_row8_col11\" class=\"data row8 col11\" >0.059589</td>\n",
       "      <td id=\"T_396d9_row8_col12\" class=\"data row8 col12\" >0.042992</td>\n",
       "      <td id=\"T_396d9_row8_col13\" class=\"data row8 col13\" >-0.010667</td>\n",
       "      <td id=\"T_396d9_row8_col14\" class=\"data row8 col14\" >0.148852</td>\n",
       "    </tr>\n",
       "    <tr>\n",
       "      <th id=\"T_396d9_level0_row9\" class=\"row_heading level0 row9\" >px_width</th>\n",
       "      <td id=\"T_396d9_row9_col0\" class=\"data row9 col0\" >-0.008402</td>\n",
       "      <td id=\"T_396d9_row9_col1\" class=\"data row9 col1\" >-0.009476</td>\n",
       "      <td id=\"T_396d9_row9_col2\" class=\"data row9 col2\" >-0.005688</td>\n",
       "      <td id=\"T_396d9_row9_col3\" class=\"data row9 col3\" >-0.008335</td>\n",
       "      <td id=\"T_396d9_row9_col4\" class=\"data row9 col4\" >0.023566</td>\n",
       "      <td id=\"T_396d9_row9_col5\" class=\"data row9 col5\" >0.000090</td>\n",
       "      <td id=\"T_396d9_row9_col6\" class=\"data row9 col6\" >0.024480</td>\n",
       "      <td id=\"T_396d9_row9_col7\" class=\"data row9 col7\" >0.004196</td>\n",
       "      <td id=\"T_396d9_row9_col8\" class=\"data row9 col8\" >0.510661</td>\n",
       "      <td id=\"T_396d9_row9_col9\" class=\"data row9 col9\" >1.000000</td>\n",
       "      <td id=\"T_396d9_row9_col10\" class=\"data row9 col10\" >0.004105</td>\n",
       "      <td id=\"T_396d9_row9_col11\" class=\"data row9 col11\" >0.021599</td>\n",
       "      <td id=\"T_396d9_row9_col12\" class=\"data row9 col12\" >0.034699</td>\n",
       "      <td id=\"T_396d9_row9_col13\" class=\"data row9 col13\" >0.006720</td>\n",
       "      <td id=\"T_396d9_row9_col14\" class=\"data row9 col14\" >0.165818</td>\n",
       "    </tr>\n",
       "    <tr>\n",
       "      <th id=\"T_396d9_level0_row10\" class=\"row_heading level0 row10\" >ram</th>\n",
       "      <td id=\"T_396d9_row10_col0\" class=\"data row10 col0\" >-0.000653</td>\n",
       "      <td id=\"T_396d9_row10_col1\" class=\"data row10 col1\" >0.003443</td>\n",
       "      <td id=\"T_396d9_row10_col2\" class=\"data row10 col2\" >0.016123</td>\n",
       "      <td id=\"T_396d9_row10_col3\" class=\"data row10 col3\" >0.032813</td>\n",
       "      <td id=\"T_396d9_row10_col4\" class=\"data row10 col4\" >-0.009434</td>\n",
       "      <td id=\"T_396d9_row10_col5\" class=\"data row10 col5\" >-0.002581</td>\n",
       "      <td id=\"T_396d9_row10_col6\" class=\"data row10 col6\" >0.004868</td>\n",
       "      <td id=\"T_396d9_row10_col7\" class=\"data row10 col7\" >0.028984</td>\n",
       "      <td id=\"T_396d9_row10_col8\" class=\"data row10 col8\" >-0.020349</td>\n",
       "      <td id=\"T_396d9_row10_col9\" class=\"data row10 col9\" >0.004105</td>\n",
       "      <td id=\"T_396d9_row10_col10\" class=\"data row10 col10\" >1.000000</td>\n",
       "      <td id=\"T_396d9_row10_col11\" class=\"data row10 col11\" >0.015996</td>\n",
       "      <td id=\"T_396d9_row10_col12\" class=\"data row10 col12\" >0.035576</td>\n",
       "      <td id=\"T_396d9_row10_col13\" class=\"data row10 col13\" >0.010820</td>\n",
       "      <td id=\"T_396d9_row10_col14\" class=\"data row10 col14\" >0.917046</td>\n",
       "    </tr>\n",
       "    <tr>\n",
       "      <th id=\"T_396d9_level0_row11\" class=\"row_heading level0 row11\" >sc_h</th>\n",
       "      <td id=\"T_396d9_row11_col0\" class=\"data row11 col0\" >-0.029959</td>\n",
       "      <td id=\"T_396d9_row11_col1\" class=\"data row11 col1\" >-0.029078</td>\n",
       "      <td id=\"T_396d9_row11_col2\" class=\"data row11 col2\" >-0.010287</td>\n",
       "      <td id=\"T_396d9_row11_col3\" class=\"data row11 col3\" >0.037771</td>\n",
       "      <td id=\"T_396d9_row11_col4\" class=\"data row11 col4\" >-0.025348</td>\n",
       "      <td id=\"T_396d9_row11_col5\" class=\"data row11 col5\" >-0.033855</td>\n",
       "      <td id=\"T_396d9_row11_col6\" class=\"data row11 col6\" >-0.000315</td>\n",
       "      <td id=\"T_396d9_row11_col7\" class=\"data row11 col7\" >0.004938</td>\n",
       "      <td id=\"T_396d9_row11_col8\" class=\"data row11 col8\" >0.059589</td>\n",
       "      <td id=\"T_396d9_row11_col9\" class=\"data row11 col9\" >0.021599</td>\n",
       "      <td id=\"T_396d9_row11_col10\" class=\"data row11 col10\" >0.015996</td>\n",
       "      <td id=\"T_396d9_row11_col11\" class=\"data row11 col11\" >1.000000</td>\n",
       "      <td id=\"T_396d9_row11_col12\" class=\"data row11 col12\" >0.506144</td>\n",
       "      <td id=\"T_396d9_row11_col13\" class=\"data row11 col13\" >-0.017335</td>\n",
       "      <td id=\"T_396d9_row11_col14\" class=\"data row11 col14\" >0.022986</td>\n",
       "    </tr>\n",
       "    <tr>\n",
       "      <th id=\"T_396d9_level0_row12\" class=\"row_heading level0 row12\" >sc_w</th>\n",
       "      <td id=\"T_396d9_row12_col0\" class=\"data row12 col0\" >-0.021421</td>\n",
       "      <td id=\"T_396d9_row12_col1\" class=\"data row12 col1\" >-0.007378</td>\n",
       "      <td id=\"T_396d9_row12_col2\" class=\"data row12 col2\" >-0.011440</td>\n",
       "      <td id=\"T_396d9_row12_col3\" class=\"data row12 col3\" >0.011731</td>\n",
       "      <td id=\"T_396d9_row12_col4\" class=\"data row12 col4\" >-0.018388</td>\n",
       "      <td id=\"T_396d9_row12_col5\" class=\"data row12 col5\" >-0.020761</td>\n",
       "      <td id=\"T_396d9_row12_col6\" class=\"data row12 col6\" >0.025826</td>\n",
       "      <td id=\"T_396d9_row12_col7\" class=\"data row12 col7\" >-0.023819</td>\n",
       "      <td id=\"T_396d9_row12_col8\" class=\"data row12 col8\" >0.042992</td>\n",
       "      <td id=\"T_396d9_row12_col9\" class=\"data row12 col9\" >0.034699</td>\n",
       "      <td id=\"T_396d9_row12_col10\" class=\"data row12 col10\" >0.035576</td>\n",
       "      <td id=\"T_396d9_row12_col11\" class=\"data row12 col11\" >0.506144</td>\n",
       "      <td id=\"T_396d9_row12_col12\" class=\"data row12 col12\" >1.000000</td>\n",
       "      <td id=\"T_396d9_row12_col13\" class=\"data row12 col13\" >-0.022821</td>\n",
       "      <td id=\"T_396d9_row12_col14\" class=\"data row12 col14\" >0.038711</td>\n",
       "    </tr>\n",
       "    <tr>\n",
       "      <th id=\"T_396d9_level0_row13\" class=\"row_heading level0 row13\" >talk_time</th>\n",
       "      <td id=\"T_396d9_row13_col0\" class=\"data row13 col0\" >0.052510</td>\n",
       "      <td id=\"T_396d9_row13_col1\" class=\"data row13 col1\" >-0.011432</td>\n",
       "      <td id=\"T_396d9_row13_col2\" class=\"data row13 col2\" >-0.006808</td>\n",
       "      <td id=\"T_396d9_row13_col3\" class=\"data row13 col3\" >-0.002790</td>\n",
       "      <td id=\"T_396d9_row13_col4\" class=\"data row13 col4\" >0.017003</td>\n",
       "      <td id=\"T_396d9_row13_col5\" class=\"data row13 col5\" >0.006209</td>\n",
       "      <td id=\"T_396d9_row13_col6\" class=\"data row13 col6\" >0.013148</td>\n",
       "      <td id=\"T_396d9_row13_col7\" class=\"data row13 col7\" >0.014657</td>\n",
       "      <td id=\"T_396d9_row13_col8\" class=\"data row13 col8\" >-0.010667</td>\n",
       "      <td id=\"T_396d9_row13_col9\" class=\"data row13 col9\" >0.006720</td>\n",
       "      <td id=\"T_396d9_row13_col10\" class=\"data row13 col10\" >0.010820</td>\n",
       "      <td id=\"T_396d9_row13_col11\" class=\"data row13 col11\" >-0.017335</td>\n",
       "      <td id=\"T_396d9_row13_col12\" class=\"data row13 col12\" >-0.022821</td>\n",
       "      <td id=\"T_396d9_row13_col13\" class=\"data row13 col13\" >1.000000</td>\n",
       "      <td id=\"T_396d9_row13_col14\" class=\"data row13 col14\" >0.021859</td>\n",
       "    </tr>\n",
       "    <tr>\n",
       "      <th id=\"T_396d9_level0_row14\" class=\"row_heading level0 row14\" >price_range</th>\n",
       "      <td id=\"T_396d9_row14_col0\" class=\"data row14 col0\" >0.200723</td>\n",
       "      <td id=\"T_396d9_row14_col1\" class=\"data row14 col1\" >-0.006606</td>\n",
       "      <td id=\"T_396d9_row14_col2\" class=\"data row14 col2\" >0.022491</td>\n",
       "      <td id=\"T_396d9_row14_col3\" class=\"data row14 col3\" >0.044435</td>\n",
       "      <td id=\"T_396d9_row14_col4\" class=\"data row14 col4\" >0.000853</td>\n",
       "      <td id=\"T_396d9_row14_col5\" class=\"data row14 col5\" >-0.030302</td>\n",
       "      <td id=\"T_396d9_row14_col6\" class=\"data row14 col6\" >0.004399</td>\n",
       "      <td id=\"T_396d9_row14_col7\" class=\"data row14 col7\" >0.033599</td>\n",
       "      <td id=\"T_396d9_row14_col8\" class=\"data row14 col8\" >0.148852</td>\n",
       "      <td id=\"T_396d9_row14_col9\" class=\"data row14 col9\" >0.165818</td>\n",
       "      <td id=\"T_396d9_row14_col10\" class=\"data row14 col10\" >0.917046</td>\n",
       "      <td id=\"T_396d9_row14_col11\" class=\"data row14 col11\" >0.022986</td>\n",
       "      <td id=\"T_396d9_row14_col12\" class=\"data row14 col12\" >0.038711</td>\n",
       "      <td id=\"T_396d9_row14_col13\" class=\"data row14 col13\" >0.021859</td>\n",
       "      <td id=\"T_396d9_row14_col14\" class=\"data row14 col14\" >1.000000</td>\n",
       "    </tr>\n",
       "  </tbody>\n",
       "</table>\n"
      ],
      "text/plain": [
       "<pandas.io.formats.style.Styler at 0x2472710f550>"
      ]
     },
     "execution_count": 9,
     "metadata": {},
     "output_type": "execute_result"
    }
   ],
   "source": [
    "df.corr().style.background_gradient(cmap='coolwarm')"
   ]
  },
  {
   "cell_type": "code",
   "execution_count": 10,
   "metadata": {
    "colab": {
     "base_uri": "https://localhost:8080/",
     "height": 317
    },
    "id": "VnAZbXvdifi3",
    "outputId": "c781c558-4b15-4e6b-dea7-66de9e548b46"
   },
   "outputs": [
    {
     "data": {
      "text/plain": [
       "(array([500.,   0.,   0., 500.,   0.,   0., 500.,   0.,   0., 500.]),\n",
       " array([0. , 0.3, 0.6, 0.9, 1.2, 1.5, 1.8, 2.1, 2.4, 2.7, 3. ]),\n",
       " <BarContainer object of 10 artists>)"
      ]
     },
     "execution_count": 10,
     "metadata": {},
     "output_type": "execute_result"
    },
    {
     "data": {
      "image/png": "[encoded data removed]",
      "text/plain": [
       "<Figure size 432x288 with 1 Axes>"
      ]
     },
     "metadata": {
      "needs_background": "light"
     },
     "output_type": "display_data"
    }
   ],
   "source": [
    "plt.hist(df['price_range'])"
   ]
  },
  {
   "cell_type": "markdown",
   "metadata": {
    "id": "zwzpOU-biv_m"
   },
   "source": [
    "# preprocessing"
   ]
  },
  {
   "cell_type": "code",
   "execution_count": 11,
   "metadata": {
    "colab": {
     "base_uri": "https://localhost:8080/",
     "height": 270
    },
    "id": "d7pL7zEVjc1V",
    "outputId": "6d829a19-4f6a-45ed-d1c7-7cfe644cd8c4"
   },
   "outputs": [
    {
     "data": {
      "text/html": [
       "<div>\n",
       "<style scoped>\n",
       "    .dataframe tbody tr th:only-of-type {\n",
       "        vertical-align: middle;\n",
       "    }\n",
       "\n",
       "    .dataframe tbody tr th {\n",
       "        vertical-align: top;\n",
       "    }\n",
       "\n",
       "    .dataframe thead th {\n",
       "        text-align: right;\n",
       "    }\n",
       "</style>\n",
       "<table border=\"1\" class=\"dataframe\">\n",
       "  <thead>\n",
       "    <tr style=\"text-align: right;\">\n",
       "      <th></th>\n",
       "      <th>battery_power</th>\n",
       "      <th>clock_speed</th>\n",
       "      <th>fc</th>\n",
       "      <th>int_memory</th>\n",
       "      <th>m_dep</th>\n",
       "      <th>mobile_wt</th>\n",
       "      <th>n_cores</th>\n",
       "      <th>pc</th>\n",
       "      <th>px_height</th>\n",
       "      <th>px_width</th>\n",
       "      <th>ram</th>\n",
       "      <th>sc_h</th>\n",
       "      <th>sc_w</th>\n",
       "      <th>talk_time</th>\n",
       "    </tr>\n",
       "  </thead>\n",
       "  <tbody>\n",
       "    <tr>\n",
       "      <th>0</th>\n",
       "      <td>842.0</td>\n",
       "      <td>2.2</td>\n",
       "      <td>1.0</td>\n",
       "      <td>7.0</td>\n",
       "      <td>0.6</td>\n",
       "      <td>188.0</td>\n",
       "      <td>2.0</td>\n",
       "      <td>2.0</td>\n",
       "      <td>20.0</td>\n",
       "      <td>756.0</td>\n",
       "      <td>2549.0</td>\n",
       "      <td>9.0</td>\n",
       "      <td>7.0</td>\n",
       "      <td>19.0</td>\n",
       "    </tr>\n",
       "    <tr>\n",
       "      <th>1</th>\n",
       "      <td>1021.0</td>\n",
       "      <td>0.5</td>\n",
       "      <td>0.0</td>\n",
       "      <td>53.0</td>\n",
       "      <td>0.7</td>\n",
       "      <td>136.0</td>\n",
       "      <td>3.0</td>\n",
       "      <td>6.0</td>\n",
       "      <td>905.0</td>\n",
       "      <td>1988.0</td>\n",
       "      <td>2631.0</td>\n",
       "      <td>17.0</td>\n",
       "      <td>3.0</td>\n",
       "      <td>7.0</td>\n",
       "    </tr>\n",
       "    <tr>\n",
       "      <th>2</th>\n",
       "      <td>563.0</td>\n",
       "      <td>0.5</td>\n",
       "      <td>2.0</td>\n",
       "      <td>41.0</td>\n",
       "      <td>0.9</td>\n",
       "      <td>145.0</td>\n",
       "      <td>5.0</td>\n",
       "      <td>6.0</td>\n",
       "      <td>1263.0</td>\n",
       "      <td>1716.0</td>\n",
       "      <td>2603.0</td>\n",
       "      <td>11.0</td>\n",
       "      <td>2.0</td>\n",
       "      <td>9.0</td>\n",
       "    </tr>\n",
       "    <tr>\n",
       "      <th>3</th>\n",
       "      <td>615.0</td>\n",
       "      <td>2.5</td>\n",
       "      <td>0.0</td>\n",
       "      <td>10.0</td>\n",
       "      <td>0.8</td>\n",
       "      <td>131.0</td>\n",
       "      <td>6.0</td>\n",
       "      <td>9.0</td>\n",
       "      <td>1216.0</td>\n",
       "      <td>1786.0</td>\n",
       "      <td>2769.0</td>\n",
       "      <td>16.0</td>\n",
       "      <td>8.0</td>\n",
       "      <td>11.0</td>\n",
       "    </tr>\n",
       "    <tr>\n",
       "      <th>4</th>\n",
       "      <td>1821.0</td>\n",
       "      <td>1.2</td>\n",
       "      <td>13.0</td>\n",
       "      <td>44.0</td>\n",
       "      <td>0.6</td>\n",
       "      <td>141.0</td>\n",
       "      <td>2.0</td>\n",
       "      <td>14.0</td>\n",
       "      <td>1208.0</td>\n",
       "      <td>1212.0</td>\n",
       "      <td>1411.0</td>\n",
       "      <td>8.0</td>\n",
       "      <td>2.0</td>\n",
       "      <td>15.0</td>\n",
       "    </tr>\n",
       "  </tbody>\n",
       "</table>\n",
       "</div>"
      ],
      "text/plain": [
       "   battery_power  clock_speed    fc  int_memory  m_dep  mobile_wt  n_cores  \\\n",
       "0          842.0          2.2   1.0         7.0    0.6      188.0      2.0   \n",
       "1         1021.0          0.5   0.0        53.0    0.7      136.0      3.0   \n",
       "2          563.0          0.5   2.0        41.0    0.9      145.0      5.0   \n",
       "3          615.0          2.5   0.0        10.0    0.8      131.0      6.0   \n",
       "4         1821.0          1.2  13.0        44.0    0.6      141.0      2.0   \n",
       "\n",
       "     pc  px_height  px_width     ram  sc_h  sc_w  talk_time  \n",
       "0   2.0       20.0     756.0  2549.0   9.0   7.0       19.0  \n",
       "1   6.0      905.0    1988.0  2631.0  17.0   3.0        7.0  \n",
       "2   6.0     1263.0    1716.0  2603.0  11.0   2.0        9.0  \n",
       "3   9.0     1216.0    1786.0  2769.0  16.0   8.0       11.0  \n",
       "4  14.0     1208.0    1212.0  1411.0   8.0   2.0       15.0  "
      ]
     },
     "execution_count": 11,
     "metadata": {},
     "output_type": "execute_result"
    }
   ],
   "source": [
    "x=df.iloc[:,:-1]\n",
    "x.head()"
   ]
  },
  {
   "cell_type": "code",
   "execution_count": 12,
   "metadata": {
    "id": "17Ej3k0lip6g"
   },
   "outputs": [],
   "source": [
    "from sklearn.preprocessing import StandardScaler\n",
    "scaler=StandardScaler()\n",
    "x=scaler.fit_transform(x)"
   ]
  },
  {
   "cell_type": "code",
   "execution_count": 13,
   "metadata": {
    "colab": {
     "base_uri": "https://localhost:8080/"
    },
    "id": "Lyn-sNajjhrz",
    "outputId": "7fc00a88-9a52-4ad4-fe45-3693e4a1c12f"
   },
   "outputs": [
    {
     "data": {
      "text/plain": [
       "0    1.0\n",
       "1    2.0\n",
       "2    2.0\n",
       "3    2.0\n",
       "4    1.0\n",
       "Name: price_range, dtype: float64"
      ]
     },
     "execution_count": 13,
     "metadata": {},
     "output_type": "execute_result"
    }
   ],
   "source": [
    "y=df.iloc[:,-1]\n",
    "y.head()"
   ]
  },
  {
   "cell_type": "markdown",
   "metadata": {
    "id": "ERbrSu3FjoTb"
   },
   "source": [
    "# FITTING THE MODEL"
   ]
  },
  {
   "cell_type": "code",
   "execution_count": 14,
   "metadata": {
    "id": "sHhmlZCtj6ej"
   },
   "outputs": [],
   "source": [
    "from sklearn.model_selection import train_test_split\n",
    "x_train,x_test,y_train,y_test=train_test_split(x,y,test_size=0.33,random_state=42)"
   ]
  },
  {
   "cell_type": "code",
   "execution_count": 15,
   "metadata": {
    "colab": {
     "base_uri": "https://localhost:8080/"
    },
    "id": "ghgjpq-bjnsB",
    "outputId": "61f17cfe-b58d-4d2c-9c94-38277ccf90ed"
   },
   "outputs": [
    {
     "data": {
      "text/plain": [
       "KNeighborsClassifier(n_neighbors=15)"
      ]
     },
     "execution_count": 15,
     "metadata": {},
     "output_type": "execute_result"
    }
   ],
   "source": [
    "from sklearn.neighbors import KNeighborsClassifier\n",
    "knn=KNeighborsClassifier(n_neighbors=15)\n",
    "knn.fit(x_train,y_train)"
   ]
  },
  {
   "cell_type": "code",
   "execution_count": 16,
   "metadata": {
    "id": "19r3VDD5jl_8"
   },
   "outputs": [],
   "source": [
    "y_pred=knn.predict(x_test)"
   ]
  },
  {
   "cell_type": "code",
   "execution_count": 17,
   "metadata": {
    "colab": {
     "base_uri": "https://localhost:8080/"
    },
    "id": "3hlKmbCVj_6c",
    "outputId": "8547b13c-2f21-4e7e-cd11-69713f77bece"
   },
   "outputs": [
    {
     "name": "stdout",
     "output_type": "stream",
     "text": [
      "accuracy score  0.6424242424242425\n",
      "classification_report\n",
      "confusion_matrix\n"
     ]
    },
    {
     "data": {
      "text/plain": [
       "array([[128,  39,   2,   0],\n",
       "       [ 36,  92,  34,   0],\n",
       "       [  5,  54,  90,  13],\n",
       "       [  1,   4,  48, 114]], dtype=int64)"
      ]
     },
     "execution_count": 17,
     "metadata": {},
     "output_type": "execute_result"
    }
   ],
   "source": [
    "from sklearn.metrics import accuracy_score,classification_report,confusion_matrix\n",
    "print('accuracy score ',accuracy_score(y_test,y_pred)) \n",
    "print('classification_report')\n",
    "classification_report(y_test,y_pred)\n",
    "print('confusion_matrix')\n",
    "confusion_matrix(y_test,y_pred)"
   ]
  },
  {
   "cell_type": "markdown",
   "metadata": {
    "id": "PAEyC0j7lXeL"
   },
   "source": [
    "# CHOOSING BEST K VALUE"
   ]
  },
  {
   "cell_type": "code",
   "execution_count": 18,
   "metadata": {
    "colab": {
     "base_uri": "https://localhost:8080/"
    },
    "id": "xKbyTsdqkmQB",
    "outputId": "b4391a76-25f5-49f3-a1df-e360598e2e07"
   },
   "outputs": [
    {
     "data": {
      "text/plain": [
       "[0.4712121212121212,\n",
       " 0.4636363636363636,\n",
       " 0.44242424242424244,\n",
       " 0.3984848484848485,\n",
       " 0.41818181818181815,\n",
       " 0.39090909090909093,\n",
       " 0.3606060606060606,\n",
       " 0.37424242424242427,\n",
       " 0.37727272727272726,\n",
       " 0.35,\n",
       " 0.3560606060606061,\n",
       " 0.3515151515151515,\n",
       " 0.3575757575757576,\n",
       " 0.3575757575757576,\n",
       " 0.3484848484848485,\n",
       " 0.34545454545454546,\n",
       " 0.3575757575757576,\n",
       " 0.3424242424242424,\n",
       " 0.33636363636363636,\n",
       " 0.34545454545454546,\n",
       " 0.3515151515151515,\n",
       " 0.3515151515151515,\n",
       " 0.36363636363636365,\n",
       " 0.36363636363636365,\n",
       " 0.3560606060606061,\n",
       " 0.3621212121212121,\n",
       " 0.3575757575757576,\n",
       " 0.3560606060606061,\n",
       " 0.35,\n",
       " 0.34393939393939393,\n",
       " 0.3303030303030303,\n",
       " 0.3393939393939394,\n",
       " 0.33484848484848484,\n",
       " 0.35,\n",
       " 0.33636363636363636,\n",
       " 0.34545454545454546,\n",
       " 0.346969696969697,\n",
       " 0.34545454545454546]"
      ]
     },
     "execution_count": 18,
     "metadata": {},
     "output_type": "execute_result"
    }
   ],
   "source": [
    "error=[]\n",
    "for i in range(2,40):\n",
    "  knn=KNeighborsClassifier(n_neighbors=i)\n",
    "  knn.fit(x_train,y_train)\n",
    "  y_pred=knn.predict(x_test)\n",
    "  error.append(np.mean(y_pred!=y_test))\n",
    "error"
   ]
  },
  {
   "cell_type": "code",
   "execution_count": 19,
   "metadata": {
    "colab": {
     "base_uri": "https://localhost:8080/",
     "height": 296
    },
    "id": "qtXBRIsCl3nD",
    "outputId": "0bebddb7-2790-439f-ec34-b84255f172e7"
   },
   "outputs": [
    {
     "data": {
      "text/plain": [
       "Text(0, 0.5, 'error')"
      ]
     },
     "execution_count": 19,
     "metadata": {},
     "output_type": "execute_result"
    },
    {
     "data": {
      "image/png": "[encoded data removed]",
      "text/plain": [
       "<Figure size 432x288 with 1 Axes>"
      ]
     },
     "metadata": {
      "needs_background": "light"
     },
     "output_type": "display_data"
    }
   ],
   "source": [
    "k=range(2,40)\n",
    "plt.scatter(k,error)\n",
    "plt.xlabel('k')\n",
    "plt.ylabel('error')"
   ]
  },
  {
   "cell_type": "markdown",
   "metadata": {
    "id": "B9L5KZm6mhK0"
   },
   "source": [
    "from the above, i found that the optimum k values is 39"
   ]
  },
  {
   "cell_type": "code",
   "execution_count": 20,
   "metadata": {
    "colab": {
     "base_uri": "https://localhost:8080/"
    },
    "id": "Zd1UoN2YmLDm",
    "outputId": "a82f7dc4-6eae-4638-f68c-b84a652f612b"
   },
   "outputs": [
    {
     "name": "stdout",
     "output_type": "stream",
     "text": [
      "accuracy score  0.6545454545454545\n",
      "classification_report\n",
      "confusion_matrix\n"
     ]
    },
    {
     "data": {
      "text/plain": [
       "array([[131,  38,   0,   0],\n",
       "       [ 36,  89,  36,   1],\n",
       "       [  1,  53,  92,  16],\n",
       "       [  0,   3,  44, 120]], dtype=int64)"
      ]
     },
     "execution_count": 20,
     "metadata": {},
     "output_type": "execute_result"
    }
   ],
   "source": [
    "knn=KNeighborsClassifier(n_neighbors=i)\n",
    "knn.fit(x_train,y_train)\n",
    "y_pred=knn.predict(x_test)\n",
    "y_pred=knn.predict(x_test)\n",
    "print('accuracy score ',accuracy_score(y_test,y_pred)) \n",
    "print('classification_report')\n",
    "classification_report(y_test,y_pred)\n",
    "print('confusion_matrix')\n",
    "confusion_matrix(y_test,y_pred)"
   ]
  },
  {
   "cell_type": "code",
   "execution_count": null,
   "metadata": {
    "id": "S1svLDD-mvTr"
   },
   "outputs": [],
   "source": []
  }
 ],
 "metadata": {
  "colab": {
   "collapsed_sections": [],
   "name": "Untitled1.ipynb",
   "provenance": []
  },
  "kernelspec": {
   "display_name": "Python 3 (ipykernel)",
   "language": "python",
   "name": "python3"
  },
  "language_info": {
   "codemirror_mode": {
    "name": "ipython",
    "version": 3
   },
   "file_extension": ".py",
   "mimetype": "text/x-python",
   "name": "python",
   "nbconvert_exporter": "python",
   "pygments_lexer": "ipython3",
   "version": "3.9.7"
  }
 },
 "nbformat": 4,
 "nbformat_minor": 1
}
